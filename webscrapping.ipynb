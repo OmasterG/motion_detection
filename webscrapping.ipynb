{
 "cells": [
  {
   "cell_type": "code",
   "execution_count": 2,
   "metadata": {
    "collapsed": true
   },
   "outputs": [
    {
     "data": {
      "text/plain": [
       "bs4.element.ResultSet"
      ]
     },
     "execution_count": 2,
     "metadata": {},
     "output_type": "execute_result"
    }
   ],
   "source": [
    "import requests\n",
    "from bs4 import BeautifulSoup as bfsp\n",
    "\n",
    "r=requests.get(\"https://www.pythonhow.com/real-estate/rock-springs-wy/LCWYROCKSPRINGS/\")\n",
    "c=r.content\n",
    "soup=bfsp(c,\"html.parser\")\n",
    "all=soup.find_all(\"div\",{\"class\":\"propertyRow\"})\n",
    "type(all)"
   ]
  },
  {
   "cell_type": "code",
   "execution_count": 4,
   "metadata": {},
   "outputs": [
    {
     "data": {
      "text/plain": [
       "<div class=\"propertyRow\" id=\"propertyRowREN021201395\" onclick=\"Track.doEvent('Hybrid Mapping', 'Property Center Lane', 'Select a property with brand REN to view details'); document.location.href='/property/0-gateway-rock-springs-wy-82901-REN021201395';\">\n<div class=\"CenterLaneCardBg CardWrapper propertyCard\" id=\"propertyREN021201395\">\n<div class=\"CenterLaneCard propertyCard\">\n<div class=\"CardThumb\">\n<div class=\"landscapeThumbContainer\">\n<a href=\"https://web.archive.org/web/20160127020422/http://www.century21.com/property/0-gateway-rock-springs-wy-82901-REN021201395\"><img class=\"lazyLoad\" rel=\"http://www.century21.com/listhub/thumb/130x90/photos.listhub.net/FCBRWY/20156419/1?lm=20151103T230938\" src=\"./LCWYROCKSPRINGS1_files/1\"/></a>\n</div>\n</div>\n<h4 class=\"propPrice\">\n$725,000\n<span class=\"IconPropertyFavorite16\"></span>\n</h4>\n<div class=\"CardDetails\">\n<div class=\"primaryDetails\">\n<span class=\"propAddressCollapse\" title=\"0 Gateway\">0 Gateway</span>\n<span class=\"propAddressCollapse\">Rock Springs, WY 82901</span>\n<input name=\"shortCurrency\" type=\"hidden\" value=\"$725K\"/>\n<input name=\"proplongitude\" type=\"hidden\" value=\"-109.248\"/>\n<input name=\"proplatitude\" type=\"hidden\" value=\"41.5842\"/>\n</div>\n<div class=\"secondaryDetails \">\n<div class=\"infoLine1\">\n</div>\n<div class=\"infoLine2\">\n</div>\n</div>\n<div class=\"secondaryHeader \">\nCourtesy Of All Broker Realty\n</div>\n</div>\n</div>\n<div class=\"CardActions\">\n<a class=\"CardPhotoCount\" href=\"https://web.archive.org/web/20160127020422/http://www.century21.com/property/0-gateway-rock-springs-wy-82901-REN021201395\">\n<span class=\"IconPropertyPhotos16\"></span>\n1\nImage\n</a>\n<a class=\"propertyAction\" href=\"javascript:void(0);\" onclick=\"Track.doEvent('Hybrid Mapping', 'Property Center Lane', 'Hide a property'); myc21.hideProperty('REN021201395', '#propertyRowREN021201395');c21Helpers.stopEvent(event);\" title=\"Hide\">\n<span class=\"IconActionHide16\"></span><b>Hide</b>\n</a>\n<a class=\"propertyAction\" href=\"javascript:void(0);\" onclick=\"Track.doEvent('Hybrid Mapping', 'Property Center Lane', 'Select Contact regarding property'); modalWindows.openPropertyContact('REN021201395', 'MainSearchProperty', '', 'PRP');c21Helpers.stopEvent(event);\" title=\"Contact\">\n<span class=\"IconActionContact16\"></span><b>Contact</b>\n</a>\n<a class=\"propertyAction removeFavorite\" href=\"javascript:void(0);\" onclick=\"Track.doEvent('Hybrid Mapping', 'Property Center Lane', 'Remove a favorite property'); myc21.unfavoriteProperty('REN021201395', '#propertyREN021201395');c21Helpers.stopEvent(event);\" title=\"Remove Favorite\">\n<span class=\"IconActionRemoveFavorite16\"></span>Remove Favorite\n</a>\n<a class=\"propertyAction addFavorite\" href=\"javascript:void(0);\" onclick=\"Track.doEvent('Hybrid Mapping', 'Property Center Lane', 'Add a favorite property'); myc21.favoriteProperty('REN021201395', '#propertyREN021201395', '3yd-FCBRWY-20156419');c21Helpers.stopEvent(event);\" title=\"Add to Favorites\">\n<span class=\"IconActionAddFavorite16\"></span><b>Add as Favorite</b>\n</a>\n</div>\n<div class=\"hiddenListItem\">\n<a href=\"javascript:void(0);\" onclick=\"Track.doEvent('Hybrid Mapping', 'Property Center Lane', 'Un-Hide a property');myc21.unhideProperty('REN021201395', '#propertyRowREN021201395');c21Helpers.stopEvent(event);\" title=\"0 Gateway, Rock Springs, WY 82901 | $725,000\">\n<span class=\"IconActionUnhide16\"></span>\n</a>\n<a class=\"propAddressHide\" href=\"javascript:void(0);\" onclick=\"Track.doEvent('Hybrid Mapping', 'Property Center Lane', 'Un-Hide a property');myc21.unhideProperty('REN021201395', '#propertyRowREN021201395');c21Helpers.stopEvent(event);\" title=\"0 Gateway, Rock Springs, WY 82901 | $725,000\">\nUnhide Property: 0 Gateway, Rock Springs, WY 82901 | $725,000\n</a>\n</div>\n<div class=\"clear\"></div>\n</div>\n<div class=\"propertyDetails\">\n<div class=\"invisibleFloat\"></div>\n<div class=\"propertyDetailPhotos\" id=\"propertyRowREN021201395propertyDetailPhotos\">\n<div class=\"photoFlow last\">\n<div class=\"landscapeThumbContainer\">\n<a href=\"https://web.archive.org/web/20160127020422/http://www.century21.com/property/0-gateway-rock-springs-wy-82901-REN021201395?g=0\" title=\"\"><img rel=\"http://www.century21.com/listhub/thumb/130x90/photos.listhub.net/FCBRWY/20156419/1?lm=20151103T230938\" src=\"./LCWYROCKSPRINGS1_files/loadingimage39x30.png\"/></a>\n</div>\n</div>\n<div class=\"propertyMLS\">MLS#\n20156419\n</div>\n</div>\n<div class=\"propertyDescription\" id=\"propertyRowREN021201395propertyDescription\">\n<span class=\"propDescHeader\">PROPERTY DESCRIPTION: </span>\n<div class=\"propertyDescCollapse collapsed\" expandlink=\"/property/0-gateway-rock-springs-wy-82901-REN021201395\" id=\"propertyRowREN021201395propertyDescCollapse\" style=\"display: block;\"> This Location could be used for almost anything, close to Hospital, Residential, Great possibilities </div>\n</div>\n<div class=\"propertyFeatures\" id=\"propertyRowREN021201395propertyFeatures\">\n<div class=\"ui-column\" style=\"float: left; width: 200px; height: 110px;\"><div class=\"columnGroup propFeatureHeader\">FEATURES:</div><div class=\"columnGroup\">\n<span class=\"featureGroup\">Architecture Style: </span><span class=\"featureName\">Other</span>\n</div><div class=\"columnGroup\">\n<span class=\"featureGroup\">Roof Type: </span><span class=\"featureName\">Unknown</span>\n</div></div></div>\n</div>\n</div>"
      ]
     },
     "execution_count": 4,
     "metadata": {},
     "output_type": "execute_result"
    }
   ],
   "source": [
    "all[0]"
   ]
  },
  {
   "cell_type": "code",
   "execution_count": 8,
   "metadata": {},
   "outputs": [
    {
     "data": {
      "text/plain": [
       "'\\n$725,000\\n\\n'"
      ]
     },
     "execution_count": 8,
     "metadata": {},
     "output_type": "execute_result"
    }
   ],
   "source": [
    "all[0].find_all(\"h4\",{\"class\":\"propPrice\"})[0].text"
   ]
  },
  {
   "cell_type": "code",
   "execution_count": 10,
   "metadata": {},
   "outputs": [
    {
     "data": {
      "text/plain": [
       "'$725,000'"
      ]
     },
     "execution_count": 10,
     "metadata": {},
     "output_type": "execute_result"
    }
   ],
   "source": [
    "all[0].find_all(\"h4\",{\"class\":\"propPrice\"})[0].text.replace(\"\\n\",\"\").replace(\" \",\"\")"
   ]
  },
  {
   "cell_type": "code",
   "execution_count": 10,
   "metadata": {},
   "outputs": [
    {
     "ename": "TypeError",
     "evalue": "'builtin_function_or_method' object is not iterable",
     "traceback": [
      "\u001b[1;31m---------------------------------------------------------------------------\u001b[0m",
      "\u001b[1;31mTypeError\u001b[0m                                 Traceback (most recent call last)",
      "\u001b[1;32m<ipython-input-10-b5b39ea84e6c>\u001b[0m in \u001b[0;36m<module>\u001b[1;34m()\u001b[0m\n\u001b[1;32m----> 1\u001b[1;33m \u001b[1;32mfor\u001b[0m \u001b[0mitem\u001b[0m \u001b[1;32min\u001b[0m \u001b[0mall\u001b[0m\u001b[1;33m:\u001b[0m\u001b[1;33m\u001b[0m\u001b[0m\n\u001b[0m\u001b[0;32m      2\u001b[0m     \u001b[1;32mtry\u001b[0m\u001b[1;33m:\u001b[0m\u001b[1;33m\u001b[0m\u001b[0m\n\u001b[0;32m      3\u001b[0m         \u001b[0mprint\u001b[0m\u001b[1;33m(\u001b[0m\u001b[0mitem\u001b[0m\u001b[1;33m.\u001b[0m\u001b[0mfind\u001b[0m\u001b[1;33m(\u001b[0m\u001b[1;34m\"span\"\u001b[0m\u001b[1;33m,\u001b[0m\u001b[1;33m{\u001b[0m\u001b[1;34m\"class\"\u001b[0m\u001b[1;33m:\u001b[0m\u001b[1;34m\"infoBed\"\u001b[0m\u001b[1;33m}\u001b[0m\u001b[1;33m)\u001b[0m\u001b[1;33m.\u001b[0m\u001b[0mfind\u001b[0m\u001b[1;33m(\u001b[0m\u001b[1;34m\"b\"\u001b[0m\u001b[1;33m)\u001b[0m\u001b[1;33m.\u001b[0m\u001b[0mtext\u001b[0m\u001b[1;33m)\u001b[0m\u001b[1;33m\u001b[0m\u001b[0m\n\u001b[0;32m      4\u001b[0m     \u001b[1;32mexcept\u001b[0m\u001b[1;33m:\u001b[0m\u001b[1;33m\u001b[0m\u001b[0m\n\u001b[0;32m      5\u001b[0m         \u001b[1;32mpass\u001b[0m\u001b[1;33m\u001b[0m\u001b[0m\n",
      "\u001b[1;31mTypeError\u001b[0m: 'builtin_function_or_method' object is not iterable"
     ],
     "output_type": "error"
    }
   ],
   "source": [
    "for item in all:\n",
    "    try:\n",
    "        print(item.find(\"span\",{\"class\":\"infoBed\"}).find(\"b\").text)\n",
    "    except:\n",
    "        pass\n",
    "    try:\n",
    "            print(item.find(\"span\",{\"class\":\"infoValueFullBath\"}).find(\"b\").text)\n",
    "    except:\n",
    "            pass\n",
    "    try:\n",
    "            print(item.find(\"span\",{\"class\":\"infoValueHalfBath\"}).find(\"b\").text)\n",
    "    except:\n",
    "            pass"
   ]
  },
  {
   "cell_type": "code",
   "execution_count": 12,
   "metadata": {},
   "outputs": [
    {
     "ename": "TypeError",
     "evalue": "'builtin_function_or_method' object is not iterable",
     "traceback": [
      "\u001b[1;31m---------------------------------------------------------------------------\u001b[0m",
      "\u001b[1;31mTypeError\u001b[0m                                 Traceback (most recent call last)",
      "\u001b[1;32m<ipython-input-12-0c9af5093a49>\u001b[0m in \u001b[0;36m<module>\u001b[1;34m()\u001b[0m\n\u001b[1;32m----> 1\u001b[1;33m \u001b[1;32mfor\u001b[0m \u001b[0mitem\u001b[0m \u001b[1;32min\u001b[0m \u001b[0mall\u001b[0m\u001b[1;33m:\u001b[0m\u001b[1;33m\u001b[0m\u001b[0m\n\u001b[0m\u001b[0;32m      2\u001b[0m     \u001b[1;32mtry\u001b[0m\u001b[1;33m:\u001b[0m\u001b[1;33m\u001b[0m\u001b[0m\n\u001b[0;32m      3\u001b[0m         \u001b[0mprint\u001b[0m\u001b[1;33m(\u001b[0m\u001b[0mitem\u001b[0m\u001b[1;33m.\u001b[0m\u001b[0mfind\u001b[0m\u001b[1;33m(\u001b[0m\u001b[1;34m\"span\"\u001b[0m\u001b[1;33m,\u001b[0m\u001b[1;33m{\u001b[0m\u001b[1;34m\"class\"\u001b[0m\u001b[1;33m:\u001b[0m\u001b[1;34m\"infoBed\"\u001b[0m\u001b[1;33m}\u001b[0m\u001b[1;33m)\u001b[0m\u001b[1;33m.\u001b[0m\u001b[0mfind\u001b[0m\u001b[1;33m(\u001b[0m\u001b[1;34m\"b\"\u001b[0m\u001b[1;33m)\u001b[0m\u001b[1;33m.\u001b[0m\u001b[0mtext\u001b[0m\u001b[1;33m)\u001b[0m\u001b[1;33m\u001b[0m\u001b[0m\n\u001b[0;32m      4\u001b[0m     \u001b[1;32mexcept\u001b[0m\u001b[1;33m:\u001b[0m\u001b[1;33m\u001b[0m\u001b[0m\n\u001b[0;32m      5\u001b[0m         \u001b[0mprint\u001b[0m\u001b[1;33m(\u001b[0m\u001b[1;32mNone\u001b[0m\u001b[1;33m)\u001b[0m\u001b[1;33m\u001b[0m\u001b[0m\n",
      "\u001b[1;31mTypeError\u001b[0m: 'builtin_function_or_method' object is not iterable"
     ],
     "output_type": "error"
    }
   ],
   "source": [
    "for item in all:\n",
    "    try:\n",
    "        print(item.find(\"span\",{\"class\":\"infoBed\"}).find(\"b\").text)\n",
    "    except:\n",
    "        print(None)\n",
    "    try:\n",
    "            print(item.find(\"span\",{\"class\":\"infoValueFullBath\"}).find(\"b\").text)\n",
    "    except:\n",
    "            print(None)\n",
    "    try:\n",
    "            print(item.find(\"span\",{\"class\":\"infoValueHalfBath\"}).find(\"b\").text)\n",
    "    except:\n",
    "            print(None)"
   ]
  },
  {
   "cell_type": "code",
   "execution_count": 23,
   "metadata": {},
   "outputs": [
    {
     "name": "stdout",
     "output_type": "stream",
     "text": [
      "[]\n"
     ]
    }
   ],
   "source": [
    "import requests\n",
    "from bs4 import BeautifulSoup as bfsp\n",
    "import pandas\n",
    "l=[]\n",
    "base_url=\"https://www.pythonhow.com/real-estate/rock-springs-wy/LCWYROCKSPRINGS/t=0&s=\"\n",
    "for page in range(0,30,10):\n",
    "    r=requests.get(\"https://www.pythonhow.com/real-estate/\"\n",
    "         \"rock-springs-wy/LCWYROCKSPRINGS/t=0&s=10\")\n",
    "    c=r.content\n",
    "    soup=bfsp(c,\"html.parser\")\n",
    "    all=soup.find_all(\"div\",{\"class\":\"propertyRow\"})\n",
    "    for item in all:\n",
    "                    d={}\n",
    "                    d[\"Price\"]=(item.find_all(\"h4\",{\"class\":\"propPrice\"})[0].text.replace(\"\\n\",\"\").replace(\" \",\"\"))\n",
    "                    d[\"Address\"]=item.find_all(\"span\",{\"class\":\"propAddressCollapse\"})[0].text\n",
    "                    d[\"Localaity\"]=item.find_all(\"span\",{\"class\":\"propAddressCollapse\"})[1].text \n",
    "                    try:\n",
    "                        d[\"Bedrooms\"]=(item.find(\"span\",{\"class\":\"infoBed\"}).find(\"b\").text)\n",
    "                    except:\n",
    "                        d[\"Bedrooms\"]=(None)\n",
    "                    try:\n",
    "                        d[\"FullBath\"]=(item.find(\"span\",{\"class\":\"infoValueFullBath\"}).find(\"b\").text)\n",
    "                    except:\n",
    "                        d[\"FullBath\"]=(None)\n",
    "                    try:\n",
    "                        d[\"HalfBath\"]=(item.find(\"HalfBath:\"+\"span\",{\"class\":\"infoValueHalfBath\"}).find(\"b\").text)\n",
    "                    except:\n",
    "                        d[\"HalfBath\"]=(None)\n",
    "                    for column_group in item.find_all(\"div\",{\"class\":\"columnGroup\"}):\n",
    "                        for feature_group, feature_name in zip(column_group.find_all(\"span\",{\"class\":\"featureGroup\"}),column_group.find_all(\"span\",{\"class\":\"featureName\"})):\n",
    "                            if \"Lot Size\" in feature_group.text:\n",
    "                                d[\"LotSize\"]=(feature_name.text)\n",
    "                    l.append(d)\n",
    "print(l)"
   ]
  },
  {
   "cell_type": "code",
   "execution_count": 18,
   "metadata": {},
   "outputs": [],
   "source": [
    ""
   ]
  },
  {
   "cell_type": "code",
   "execution_count": null,
   "metadata": {},
   "outputs": [],
   "source": [
    ""
   ]
  }
 ],
 "metadata": {
  "kernelspec": {
   "display_name": "Python 2",
   "language": "python",
   "name": "python2"
  },
  "language_info": {
   "codemirror_mode": {
    "name": "ipython",
    "version": 2.0
   },
   "file_extension": ".py",
   "mimetype": "text/x-python",
   "name": "python",
   "nbconvert_exporter": "python",
   "pygments_lexer": "ipython2",
   "version": "2.7.6"
  }
 },
 "nbformat": 4,
 "nbformat_minor": 0
}